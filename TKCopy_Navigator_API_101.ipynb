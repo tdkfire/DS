{
  "nbformat": 4,
  "nbformat_minor": 0,
  "metadata": {
    "colab": {
      "provenance": [],
      "include_colab_link": true
    },
    "kernelspec": {
      "name": "python3",
      "display_name": "Python 3"
    },
    "language_info": {
      "name": "python"
    }
  },
  "cells": [
    {
      "cell_type": "markdown",
      "metadata": {
        "id": "view-in-github",
        "colab_type": "text"
      },
      "source": [
        "<a href=\"https://colab.research.google.com/github/tdkfire/DS/blob/master/TKCopy_Navigator_API_101.ipynb\" target=\"_parent\"><img src=\"https://colab.research.google.com/assets/colab-badge.svg\" alt=\"Open In Colab\"/></a>"
      ]
    },
    {
      "cell_type": "markdown",
      "source": [
        "\n",
        "[![Open In Colab](https://colab.research.google.com/assets/colab-badge.svg)]() <br> ***** 👆 ADD URL 👆 *****\n",
        "\n",
        "<br>\n",
        "\n",
        "<center><img src=\"https://gretel-public-website.s3.us-west-2.amazonaws.com/assets/brand/gretel_brand_wordmark.svg\" alt=\"Gretel\" width=\"350\"/></center>\n",
        "\n",
        "<br>\n",
        "\n",
        "## 👋 Welcome to the Navigator real-time inference API 101 Blueprint!\n",
        "\n",
        "In this Blueprint, we will introduce the Python SDK for our Navigator real-time inference API, which makes it easy to generate high-quality synthetic tabular and text data with just a few lines of code, powered by [Gretel Navigator](https://gretel.ai/navigator).\n",
        "\n",
        "\n",
        "<br>\n",
        "\n",
        "## ✅ Set up your Gretel account\n",
        "\n",
        "To get started, you will need a [free Gretel account](https://console.gretel.ai/).\n",
        "\n",
        "If this is your first time using the Gretel SDK, we recommend starting with our [Gretel SDK Blueprints](https://docs.gretel.ai/gretel-basics/getting-started/blueprints).\n",
        "\n",
        "\n",
        "<br>\n",
        "\n",
        "#### Ready? Let's go 🚀"
      ],
      "metadata": {
        "id": "awlODvx7fQeB"
      }
    },
    {
      "cell_type": "markdown",
      "source": [
        "## 💾 Install `gretel-client` and its dependencies"
      ],
      "metadata": {
        "id": "HplFGj5HNZiJ"
      }
    },
    {
      "cell_type": "code",
      "source": [
        "%%capture\n",
        "!pip install gretel-client"
      ],
      "metadata": {
        "id": "IZPDLpEPIXSW"
      },
      "execution_count": null,
      "outputs": []
    },
    {
      "cell_type": "markdown",
      "source": [
        "## 🛜 Configure your Gretel session\n",
        "\n",
        "- [The Gretel object](https://docs.gretel.ai/create-synthetic-data/gretel-sdk/the-gretel-object) provides a high-level interface for streamlining interactions with Gretel's APIs.\n",
        "\n",
        "- Retrieve your Gretel API key [here](https://console.gretel.ai/users/me/key)."
      ],
      "metadata": {
        "id": "JHqesHdmOCe_"
      }
    },
    {
      "cell_type": "code",
      "source": [
        "from gretel_client import Gretel\n",
        "\n",
        "gretel = Gretel(api_key=\"prompt\", validate=True)"
      ],
      "metadata": {
        "id": "CLIgnOzcNpHD"
      },
      "execution_count": null,
      "outputs": []
    },
    {
      "cell_type": "markdown",
      "source": [
        "## 🚀 Real-time inference API\n",
        "\n",
        "- The Navigator real-time inference API makes it possible to programmatically run Navigator outside the [Gretel Console](https://console.gretel.ai/navigator).\n",
        "\n",
        "- Our [Python SDK](https://github.com/gretelai/gretel-python-client) provides an intuitive high-level interface for the Navigator API.\n",
        "\n",
        "- Navigator currently supports two data generation modes: `\"tabular\"` and `\"natural_language\"`. In both modes, you can choose the backend model that powers the generation."
      ],
      "metadata": {
        "id": "7GO2SLE3ebdw"
      }
    },
    {
      "cell_type": "code",
      "source": [
        "# list \"tabular\" backend models\n",
        "gretel.factories.get_navigator_model_list(\"tabular\")"
      ],
      "metadata": {
        "id": "xsiUQH5hP9TV"
      },
      "execution_count": null,
      "outputs": []
    },
    {
      "cell_type": "code",
      "source": [
        "# list \"natural_langugage\" backend models\n",
        "gretel.factories.get_navigator_model_list(\"natural_language\")"
      ],
      "metadata": {
        "id": "0zGw50JLQDWP"
      },
      "execution_count": null,
      "outputs": []
    },
    {
      "cell_type": "markdown",
      "source": [
        "**Notes:**\n",
        "\n",
        "- `gretelai/auto` automatically selects the current default model, which will change with time as models continue to evolve.\n",
        "\n",
        "- The `factories` attribute of the `Gretel` object projects methods for creating new objects that interact with Gretel's APIs."
      ],
      "metadata": {
        "id": "PrbIPm_5QKX4"
      }
    },
    {
      "cell_type": "markdown",
      "source": [
        "## 📊 Tabular data generation\n",
        "\n",
        "- We use the `initialize_navigator_api` method of the `factories` attribute to create a Navigator API object.\n",
        "\n",
        "- With `model_type = \"tabular\"` (which is the default), we initialize Navigator's tabular API.\n",
        "\n",
        "- To select a different backend model, use the optional `backend_model` argument, which defaults to `gretelai/auto`."
      ],
      "metadata": {
        "id": "Ru2Ogl83BSqn"
      }
    },
    {
      "cell_type": "code",
      "source": [
        "tabular = gretel.factories.initialize_navigator_api(\"tabular\")"
      ],
      "metadata": {
        "id": "1InUug1Aeahi"
      },
      "execution_count": null,
      "outputs": []
    },
    {
      "cell_type": "code",
      "source": [
        "# generate tabular data from a natural language prompt\n",
        "\n",
        "prompt = \"\"\"\\\n",
        "Generate customer bank transaction data. Include the following columns:\n",
        "- customer_name\n",
        "- customer_id\n",
        "- transaction_date\n",
        "- transaction_amount\n",
        "- transaction_type\n",
        "- transaction_category\n",
        "- account_balance\n",
        "\"\"\"\n",
        "\n",
        "df = tabular.generate(prompt, num_records=25)\n",
        "\n",
        "df"
      ],
      "metadata": {
        "id": "9T7EydHVS4vd"
      },
      "execution_count": null,
      "outputs": []
    },
    {
      "cell_type": "code",
      "source": [
        "# add column to the generated table using the `edit` method\n",
        "\n",
        "prompt = \"\"\"\\\n",
        "Add the following column to the provided table:\n",
        "\n",
        "- customer_address\n",
        "\"\"\"\n",
        "\n",
        "df_edited = tabular.edit(prompt, seed_data=df)\n",
        "\n",
        "df_edited"
      ],
      "metadata": {
        "id": "lUwOGBXuWQqf"
      },
      "execution_count": null,
      "outputs": []
    },
    {
      "cell_type": "markdown",
      "source": [
        "## 📚 Natural language data generation\n",
        "\n",
        "- With `model_type = \"natural_language\"`, we initialize Navigator's natural language API.\n",
        "\n",
        "- To select a different backend model, use the optional backend_model argument, which defaults to `gretelai/auto`."
      ],
      "metadata": {
        "id": "mYScZw6tm55b"
      }
    },
    {
      "cell_type": "code",
      "source": [
        "llm = gretel.factories.initialize_navigator_api(\"natural_language\")"
      ],
      "metadata": {
        "id": "KAUSBwRJfUtC"
      },
      "execution_count": null,
      "outputs": []
    },
    {
      "cell_type": "code",
      "source": [
        "# generate text from a natural language prompt\n",
        "llm.generate(\"Please tell me a funny joke about data scientists.\")"
      ],
      "metadata": {
        "id": "kTuFhwvzfYb5"
      },
      "execution_count": null,
      "outputs": []
    },
    {
      "cell_type": "code",
      "source": [
        "# let's see if the LLM is funnier with a higher generation temperature\n",
        "llm.generate(\"Please tell me a funny joke about data scientists.\", temperature=2)"
      ],
      "metadata": {
        "id": "Lerj0Ld-mwHc"
      },
      "execution_count": null,
      "outputs": []
    },
    {
      "cell_type": "markdown",
      "source": [
        "## 🤖 Combining Navigator's APIs\n",
        "\n",
        "- Navigator's APIs can be combined to dynamically create/augment prompts for tabular data generation.  "
      ],
      "metadata": {
        "id": "Te5ojPFGa75a"
      }
    },
    {
      "cell_type": "code",
      "source": [
        "# use the \"natural_language\" API to generate the fields of a tabular dataset\n",
        "\n",
        "dataset_type = \"insurance fraud\"\n",
        "\n",
        "\n",
        "llm_prompt = f\"\"\"\\\n",
        "List 8 fields you expect to find in a {dataset_type} dataset.\n",
        "\n",
        "Important: Include descriptions for each field. Please do not explain yourself.\n",
        "\"\"\"\n",
        "\n",
        "fields = llm.generate(llm_prompt, temperature=0.1)\n",
        "\n",
        "print(fields)"
      ],
      "metadata": {
        "id": "wqtC1XM7bOFC"
      },
      "execution_count": null,
      "outputs": []
    },
    {
      "cell_type": "code",
      "source": [
        "# use the \"tabular\" API to generate a dataset using the above generated fields\n",
        "\n",
        "final_prompt = f\"\"\"\\\n",
        "Create a {dataset_type} dataset with the following fields:\n",
        "\n",
        "{fields}\n",
        "\"\"\"\n",
        "\n",
        "print(final_prompt, end=\"\\n\\n\")\n",
        "\n",
        "df = tabular.generate(final_prompt, num_records=25)\n",
        "\n",
        "df"
      ],
      "metadata": {
        "id": "HpH0UBF6c1jk"
      },
      "execution_count": null,
      "outputs": []
    }
  ]
}